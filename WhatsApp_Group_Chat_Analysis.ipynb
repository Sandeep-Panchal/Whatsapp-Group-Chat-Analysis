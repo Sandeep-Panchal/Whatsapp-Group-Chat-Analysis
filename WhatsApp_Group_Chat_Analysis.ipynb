{
 "cells": [
  {
   "cell_type": "markdown",
   "metadata": {},
   "source": [
    "<center><h1>WhatsApp Group Chat Analysis<h1>"
   ]
  },
  {
   "cell_type": "code",
   "execution_count": null,
   "metadata": {},
   "outputs": [],
   "source": []
  },
  {
   "cell_type": "markdown",
   "metadata": {},
   "source": [
    "### Importing necessary libraries"
   ]
  },
  {
   "cell_type": "code",
   "execution_count": null,
   "metadata": {},
   "outputs": [],
   "source": [
    "import numpy as np\n",
    "import pandas as pd\n",
    "import matplotlib.pyplot as plt\n",
    "%matplotlib inline\n",
    "import seaborn as sns\n",
    "import re"
   ]
  },
  {
   "cell_type": "markdown",
   "metadata": {},
   "source": [
    "### Reading whats chat group data"
   ]
  },
  {
   "cell_type": "code",
   "execution_count": 2,
   "metadata": {},
   "outputs": [],
   "source": [
    "df = pd.read_csv('WhatsApp-Chat-with-Machine-Learning.csv')"
   ]
  },
  {
   "cell_type": "code",
   "execution_count": 3,
   "metadata": {},
   "outputs": [
    {
     "data": {
      "text/html": [
       "<div>\n",
       "<style scoped>\n",
       "    .dataframe tbody tr th:only-of-type {\n",
       "        vertical-align: middle;\n",
       "    }\n",
       "\n",
       "    .dataframe tbody tr th {\n",
       "        vertical-align: top;\n",
       "    }\n",
       "\n",
       "    .dataframe thead th {\n",
       "        text-align: right;\n",
       "    }\n",
       "</style>\n",
       "<table border=\"1\" class=\"dataframe\">\n",
       "  <thead>\n",
       "    <tr style=\"text-align: right;\">\n",
       "      <th></th>\n",
       "      <th>08/04/19, 10:51 pm - Messages to this group are now secured with end-to-end encryption. Tap for more info.</th>\n",
       "    </tr>\n",
       "  </thead>\n",
       "  <tbody>\n",
       "    <tr>\n",
       "      <th>0</th>\n",
       "      <td>08/04/19, 10:51 pm - Panchal created group \"Da...</td>\n",
       "    </tr>\n",
       "    <tr>\n",
       "      <th>1</th>\n",
       "      <td>08/04/19, 10:51 pm - Panchal added you</td>\n",
       "    </tr>\n",
       "    <tr>\n",
       "      <th>2</th>\n",
       "      <td>08/04/19, 10:51 pm - Panchal: With huge respec...</td>\n",
       "    </tr>\n",
       "    <tr>\n",
       "      <th>3</th>\n",
       "      <td>08/04/19, 10:52 pm - Ankan DUTTA: 😅</td>\n",
       "    </tr>\n",
       "    <tr>\n",
       "      <th>4</th>\n",
       "      <td>08/04/19, 10:52 pm - Panchal: 😂 Your presence ...</td>\n",
       "    </tr>\n",
       "  </tbody>\n",
       "</table>\n",
       "</div>"
      ],
      "text/plain": [
       "  08/04/19, 10:51 pm - Messages to this group are now secured with end-to-end encryption. Tap for more info.\n",
       "0  08/04/19, 10:51 pm - Panchal created group \"Da...                                                        \n",
       "1             08/04/19, 10:51 pm - Panchal added you                                                        \n",
       "2  08/04/19, 10:51 pm - Panchal: With huge respec...                                                        \n",
       "3                08/04/19, 10:52 pm - Ankan DUTTA: 😅                                                        \n",
       "4  08/04/19, 10:52 pm - Panchal: 😂 Your presence ...                                                        "
      ]
     },
     "execution_count": 3,
     "metadata": {},
     "output_type": "execute_result"
    }
   ],
   "source": [
    "df.head()"
   ]
  },
  {
   "cell_type": "markdown",
   "metadata": {},
   "source": [
    "### Created a new column from the existing column data\n",
    "\n",
    "##### I forgot to use 'rename' column name"
   ]
  },
  {
   "cell_type": "code",
   "execution_count": 5,
   "metadata": {},
   "outputs": [],
   "source": [
    "df['Full'] = df[df.columns]"
   ]
  },
  {
   "cell_type": "code",
   "execution_count": 6,
   "metadata": {},
   "outputs": [
    {
     "data": {
      "text/plain": [
       "Index(['08/04/19, 10:51 pm - Messages to this group are now secured with end-to-end encryption. Tap for more info.', 'Full'], dtype='object')"
      ]
     },
     "execution_count": 6,
     "metadata": {},
     "output_type": "execute_result"
    }
   ],
   "source": [
    "df.columns"
   ]
  },
  {
   "cell_type": "markdown",
   "metadata": {},
   "source": [
    "### Removed already existed column"
   ]
  },
  {
   "cell_type": "code",
   "execution_count": 7,
   "metadata": {},
   "outputs": [],
   "source": [
    "df = df.drop(df.columns[0], axis=1)"
   ]
  },
  {
   "cell_type": "code",
   "execution_count": 80,
   "metadata": {},
   "outputs": [
    {
     "data": {
      "text/html": [
       "<div>\n",
       "<style scoped>\n",
       "    .dataframe tbody tr th:only-of-type {\n",
       "        vertical-align: middle;\n",
       "    }\n",
       "\n",
       "    .dataframe tbody tr th {\n",
       "        vertical-align: top;\n",
       "    }\n",
       "\n",
       "    .dataframe thead th {\n",
       "        text-align: right;\n",
       "    }\n",
       "</style>\n",
       "<table border=\"1\" class=\"dataframe\">\n",
       "  <thead>\n",
       "    <tr style=\"text-align: right;\">\n",
       "      <th></th>\n",
       "      <th>Full</th>\n",
       "    </tr>\n",
       "  </thead>\n",
       "  <tbody>\n",
       "    <tr>\n",
       "      <th>0</th>\n",
       "      <td>08/04/19, 10:51 pm - Panchal created group \"Da...</td>\n",
       "    </tr>\n",
       "    <tr>\n",
       "      <th>1</th>\n",
       "      <td>08/04/19, 10:51 pm - Panchal added you 08/04/1...</td>\n",
       "    </tr>\n",
       "    <tr>\n",
       "      <th>2</th>\n",
       "      <td>08/04/19, 10:51 pm - Panchal: With huge respec...</td>\n",
       "    </tr>\n",
       "    <tr>\n",
       "      <th>3</th>\n",
       "      <td>08/04/19, 10:52 pm - Ankan DUTTA: 😅</td>\n",
       "    </tr>\n",
       "    <tr>\n",
       "      <th>4</th>\n",
       "      <td>08/04/19, 10:52 pm - Panchal: 😂 Your presence ...</td>\n",
       "    </tr>\n",
       "  </tbody>\n",
       "</table>\n",
       "</div>"
      ],
      "text/plain": [
       "                                                Full\n",
       "0  08/04/19, 10:51 pm - Panchal created group \"Da...\n",
       "1  08/04/19, 10:51 pm - Panchal added you 08/04/1...\n",
       "2  08/04/19, 10:51 pm - Panchal: With huge respec...\n",
       "3                08/04/19, 10:52 pm - Ankan DUTTA: 😅\n",
       "4  08/04/19, 10:52 pm - Panchal: 😂 Your presence ..."
      ]
     },
     "execution_count": 80,
     "metadata": {},
     "output_type": "execute_result"
    }
   ],
   "source": [
    "df.head()"
   ]
  },
  {
   "cell_type": "markdown",
   "metadata": {},
   "source": [
    "### Converted object type to string type"
   ]
  },
  {
   "cell_type": "code",
   "execution_count": 9,
   "metadata": {},
   "outputs": [
    {
     "data": {
      "text/plain": [
       "0    08/04/19, 10:51 pm - Panchal created group \"Da...\n",
       "1               08/04/19, 10:51 pm - Panchal added you\n",
       "2    08/04/19, 10:51 pm - Panchal: With huge respec...\n",
       "3                  08/04/19, 10:52 pm - Ankan DUTTA: 😅\n",
       "4    08/04/19, 10:52 pm - Panchal: 😂 Your presence ...\n",
       "5    08/04/19, 10:53 pm - Ankan DUTTA: Thanks for a...\n",
       "6    08/04/19, 10:53 pm - Ankan DUTTA: I'll try my ...\n",
       "7    08/04/19, 10:53 pm - Chinki: Bhai bhai bhai🙏🏽🙏...\n",
       "8        08/04/19, 10:53 pm - Ankan DUTTA: Bhai Bhai 🥺\n",
       "9    08/04/19, 10:53 pm - Panchal: Thanks to Pranay...\n",
       "Name: Full, dtype: object"
      ]
     },
     "execution_count": 9,
     "metadata": {},
     "output_type": "execute_result"
    }
   ],
   "source": [
    "df.Full = df.Full.astype('str')\n",
    "\n",
    "df.Full[:10]"
   ]
  },
  {
   "cell_type": "code",
   "execution_count": 10,
   "metadata": {},
   "outputs": [],
   "source": [
    "# Creating data column\n",
    "# df['date'] = df.Full.apply(lambda x: x.split(',')[0])\n",
    "\n",
    "# Sample column\n",
    "# df['col'] = df.Full.apply(lambda x: x.split(',')[1:])"
   ]
  },
  {
   "cell_type": "markdown",
   "metadata": {},
   "source": [
    "##### There are few rows starting with text messages and not dates. This is because, few messages are too big that messages are continued in a new row. Messages from that row should be added to the previous/respective message sender. After adding message, we need to remove the below message as it is not necessary.\n",
    "\n",
    "##### Note: xxxxx xxxxx refers to a 10 digit phone number. Due to privacy issue, I have to use x instead of phone numbers\n",
    "\n",
    "##### Example: Raw data\n",
    "\n",
    "row1: 03/09/2019, 19:20 - +91 xxxxx xxxxx: Hi, I am doing good...\n",
    "\n",
    "row2: How are you doing?\n",
    "\n",
    "row3: 03/09/2019, 19:22 - +91 xxxxx xxxxx: I am also doing good.\n",
    "\n",
    "##### After cleaning:\n",
    "\n",
    "row1: 03/09/2019, 19:20 - +91 xxxxx xxxxx: Hi, I am doing good... How are you doing?\n",
    "\n",
    "row3: 03/09/2019, 19:22 - +91 xxxxx xxxxx: I am also doing good."
   ]
  },
  {
   "cell_type": "code",
   "execution_count": 11,
   "metadata": {},
   "outputs": [],
   "source": [
    "m = 0\n",
    "ind = []\n",
    "\n",
    "for i in range(df.shape[0]):\n",
    "    \n",
    "    sp = re.split(', | -', df.Full[i])\n",
    "    \n",
    "    if len(sp) != 3:\n",
    "        if i - m == 1:\n",
    "            df.Full[n] = df.Full[n] +' '+ df.Full[i]\n",
    "            ind.append(i)\n",
    "            m = i\n",
    "        else:\n",
    "            df.Full[i-1] = df.Full[i-1] +' '+ df.Full[i]\n",
    "            m = i\n",
    "            n = i-1\n",
    "            ind.append(i)"
   ]
  },
  {
   "cell_type": "markdown",
   "metadata": {},
   "source": [
    "### Dropping those rows whose messages are continued in new line."
   ]
  },
  {
   "cell_type": "code",
   "execution_count": 12,
   "metadata": {},
   "outputs": [],
   "source": [
    "df_dr = df.drop(ind, axis = 0)"
   ]
  },
  {
   "cell_type": "code",
   "execution_count": 13,
   "metadata": {},
   "outputs": [],
   "source": [
    "# df.Full = df.Full.apply(lambda x: x.strip())"
   ]
  },
  {
   "cell_type": "markdown",
   "metadata": {},
   "source": [
    "### As we have dropped few rows, we will lose index value. To avoid key error, creating new index which has sequence of numbers.\n",
    "\n",
    "\n",
    "##### Note: We can even use single line code 'df.reset_index(inplace = True)'  instead of hard coding as I did below."
   ]
  },
  {
   "cell_type": "code",
   "execution_count": 2,
   "metadata": {},
   "outputs": [],
   "source": [
    "# Note: We can even use single line code 'df.reset_index(inplace = True)'  instead of hard coding as I did below.\n",
    "\n",
    "# df_dr.reset_index(inplace = True)"
   ]
  },
  {
   "cell_type": "code",
   "execution_count": 14,
   "metadata": {},
   "outputs": [],
   "source": [
    "# Index\n",
    "idx = []\n",
    "for i in range(df_dr.shape[0]):\n",
    "    idx.append(i)\n",
    "\n",
    "# Creating index column\n",
    "df_dr['ind1'] = idx\n",
    " \n",
    "# Updating index\n",
    "df_dr.set_index(['ind1'], inplace = True)"
   ]
  },
  {
   "cell_type": "code",
   "execution_count": 83,
   "metadata": {},
   "outputs": [
    {
     "data": {
      "text/plain": [
       "\"\\nfor i in range(df_dr.Full.shape[0]):\\n    sp = re.split(', | -', df_dr.Full[i])\\n    if len(sp) < 3:\\n        print(i)\\n\""
      ]
     },
     "execution_count": 83,
     "metadata": {},
     "output_type": "execute_result"
    }
   ],
   "source": [
    "\"\"\"\n",
    "for i in range(df_dr.Full.shape[0]):\n",
    "    sp = re.split(', | -', df_dr.Full[i])\n",
    "    if len(sp) < 3:\n",
    "        print(i)\n",
    "\"\"\""
   ]
  },
  {
   "cell_type": "code",
   "execution_count": 16,
   "metadata": {},
   "outputs": [],
   "source": [
    "# df_dr.to_csv('pre_pro_chat.csv', index = False)"
   ]
  },
  {
   "cell_type": "markdown",
   "metadata": {},
   "source": [
    "### Creating extra rows that are filled with month, day, date, time, hour, etc, extracted from the timestamps."
   ]
  },
  {
   "cell_type": "code",
   "execution_count": 17,
   "metadata": {},
   "outputs": [],
   "source": [
    "df_dr['date'] = 0\n",
    "df_dr['time'] = 0\n",
    "df_dr['hour'] = 0\n",
    "df_dr['mes_sam'] = 0\n",
    "df_dr['contact'] = 0\n",
    "df_dr['message'] = 0"
   ]
  },
  {
   "cell_type": "markdown",
   "metadata": {},
   "source": [
    "### Splitting data and storing them to respective columns like date, time, hour, message"
   ]
  },
  {
   "cell_type": "code",
   "execution_count": 18,
   "metadata": {},
   "outputs": [],
   "source": [
    "import warnings\n",
    "warnings.filterwarnings('ignore')\n",
    "\n",
    "for i in range(df_dr.shape[0]):\n",
    "    spl = re.split(', | -', df_dr.Full[i])\n",
    "    if len(spl) >= 3:\n",
    "        df_dr['date'][i] = spl[0].strip(' ')\n",
    "        df_dr['time'][i] = spl[1].strip(' ')\n",
    "        df_dr['hour'][i] = spl[1][:2].strip(' ')\n",
    "        df_dr['mes_sam'][i] = spl[2].strip(' ')\n",
    "        \n",
    "        spl2 = df_dr['mes_sam'][i].split(':')\n",
    "        if len(spl2) >= 2:\n",
    "            df_dr['contact'][i] = spl2[0].strip(' ')\n",
    "            df_dr['message'][i] = df_dr['mes_sam'][i][len(spl2[0]) + 1 :].strip(' ')\n",
    "        else:\n",
    "            df_dr['contact'][i] = spl2[0][:-37].strip(' ')\n",
    "            df_dr['message'][i] = spl2[0][-37:].strip(' ')\n",
    "    else:\n",
    "        print(i)"
   ]
  },
  {
   "cell_type": "markdown",
   "metadata": {},
   "source": [
    "### Dropping unnecessary columns"
   ]
  },
  {
   "cell_type": "code",
   "execution_count": 20,
   "metadata": {},
   "outputs": [
    {
     "data": {
      "text/plain": [
       "Index(['Full', 'date', 'time', 'hour', 'mes_sam', 'contact', 'message'], dtype='object')"
      ]
     },
     "execution_count": 20,
     "metadata": {},
     "output_type": "execute_result"
    }
   ],
   "source": [
    "df_dr.columns"
   ]
  },
  {
   "cell_type": "code",
   "execution_count": 21,
   "metadata": {},
   "outputs": [],
   "source": [
    "df_final = df_dr.drop(['Full', 'mes_sam'], axis = 1)"
   ]
  },
  {
   "cell_type": "code",
   "execution_count": 22,
   "metadata": {},
   "outputs": [
    {
     "data": {
      "text/plain": [
       "Index(['date', 'time', 'hour', 'contact', 'message'], dtype='object')"
      ]
     },
     "execution_count": 22,
     "metadata": {},
     "output_type": "execute_result"
    }
   ],
   "source": [
    "df_final.columns"
   ]
  },
  {
   "cell_type": "code",
   "execution_count": 24,
   "metadata": {},
   "outputs": [
    {
     "data": {
      "text/html": [
       "<div>\n",
       "<style scoped>\n",
       "    .dataframe tbody tr th:only-of-type {\n",
       "        vertical-align: middle;\n",
       "    }\n",
       "\n",
       "    .dataframe tbody tr th {\n",
       "        vertical-align: top;\n",
       "    }\n",
       "\n",
       "    .dataframe thead th {\n",
       "        text-align: right;\n",
       "    }\n",
       "</style>\n",
       "<table border=\"1\" class=\"dataframe\">\n",
       "  <thead>\n",
       "    <tr style=\"text-align: right;\">\n",
       "      <th></th>\n",
       "      <th>date</th>\n",
       "      <th>time</th>\n",
       "      <th>hour</th>\n",
       "      <th>contact</th>\n",
       "      <th>message</th>\n",
       "    </tr>\n",
       "    <tr>\n",
       "      <th>ind1</th>\n",
       "      <th></th>\n",
       "      <th></th>\n",
       "      <th></th>\n",
       "      <th></th>\n",
       "      <th></th>\n",
       "    </tr>\n",
       "  </thead>\n",
       "  <tbody>\n",
       "    <tr>\n",
       "      <th>0</th>\n",
       "      <td>08/04/19</td>\n",
       "      <td>10:51 pm</td>\n",
       "      <td>10</td>\n",
       "      <td></td>\n",
       "      <td>Panchal created group \"Data Science\"</td>\n",
       "    </tr>\n",
       "    <tr>\n",
       "      <th>1</th>\n",
       "      <td>08/04/19</td>\n",
       "      <td>10:51 pm</td>\n",
       "      <td>10</td>\n",
       "      <td></td>\n",
       "      <td>Panchal added you 08/04/19</td>\n",
       "    </tr>\n",
       "    <tr>\n",
       "      <th>2</th>\n",
       "      <td>08/04/19</td>\n",
       "      <td>10:52 pm</td>\n",
       "      <td>10</td>\n",
       "      <td>Ankan DUTTA</td>\n",
       "      <td>😅</td>\n",
       "    </tr>\n",
       "    <tr>\n",
       "      <th>3</th>\n",
       "      <td>08/04/19</td>\n",
       "      <td>10:52 pm</td>\n",
       "      <td>10</td>\n",
       "      <td>Panchal</td>\n",
       "      <td>😂 Your presence is most important here.</td>\n",
       "    </tr>\n",
       "    <tr>\n",
       "      <th>4</th>\n",
       "      <td>08/04/19</td>\n",
       "      <td>10:53 pm</td>\n",
       "      <td>10</td>\n",
       "      <td>Ankan DUTTA</td>\n",
       "      <td>Thanks for adding me</td>\n",
       "    </tr>\n",
       "  </tbody>\n",
       "</table>\n",
       "</div>"
      ],
      "text/plain": [
       "          date      time hour      contact  \\\n",
       "ind1                                         \n",
       "0     08/04/19  10:51 pm   10                \n",
       "1     08/04/19  10:51 pm   10                \n",
       "2     08/04/19  10:52 pm   10  Ankan DUTTA   \n",
       "3     08/04/19  10:52 pm   10      Panchal   \n",
       "4     08/04/19  10:53 pm   10  Ankan DUTTA   \n",
       "\n",
       "                                      message  \n",
       "ind1                                           \n",
       "0        Panchal created group \"Data Science\"  \n",
       "1                  Panchal added you 08/04/19  \n",
       "2                                           😅  \n",
       "3     😂 Your presence is most important here.  \n",
       "4                        Thanks for adding me  "
      ]
     },
     "execution_count": 24,
     "metadata": {},
     "output_type": "execute_result"
    }
   ],
   "source": [
    "df_final.head()"
   ]
  },
  {
   "cell_type": "markdown",
   "metadata": {},
   "source": [
    "### Special case\n",
    "\n",
    "I couldn't clean 1st 2 rows. So manually, have to clean them."
   ]
  },
  {
   "cell_type": "code",
   "execution_count": 25,
   "metadata": {},
   "outputs": [
    {
     "name": "stdout",
     "output_type": "stream",
     "text": [
      "08/04/19, 10:51 pm - Panchal created group \"Data Science\"\n",
      "08/04/19, 10:51 pm - Panchal added you 08/04/19, 10:51 pm - Panchal: With huge respect to Pranay's wonderful thought, creating this group where theme with only be to share ml related knowledge. As we are seeing many unwanted discussions are going on in appliedai group and is happening more day by day, Pranay came up with a plan to create a group of serious learners.\n"
     ]
    }
   ],
   "source": [
    "print(df.Full[0])\n",
    "print(df.Full[1])"
   ]
  },
  {
   "cell_type": "code",
   "execution_count": 26,
   "metadata": {},
   "outputs": [],
   "source": [
    "df_final.message[0] = 'created group \"Data Science\"'\n",
    "df_final.message[1] = \"With huge respect to Pranay's wonderful thought, creating this group where theme with only be to share ml related knowledge. As we are seeing many unwanted discussions are going on in appliedai group and is happening more day by day, Pranay came up with a plan to create a group of serious learners.\"\n",
    "\n",
    "df_final.contact[0] = 'Panchal'\n",
    "df_final.contact[1] = 'Panchal'"
   ]
  },
  {
   "cell_type": "code",
   "execution_count": 27,
   "metadata": {},
   "outputs": [
    {
     "data": {
      "text/html": [
       "<div>\n",
       "<style scoped>\n",
       "    .dataframe tbody tr th:only-of-type {\n",
       "        vertical-align: middle;\n",
       "    }\n",
       "\n",
       "    .dataframe tbody tr th {\n",
       "        vertical-align: top;\n",
       "    }\n",
       "\n",
       "    .dataframe thead th {\n",
       "        text-align: right;\n",
       "    }\n",
       "</style>\n",
       "<table border=\"1\" class=\"dataframe\">\n",
       "  <thead>\n",
       "    <tr style=\"text-align: right;\">\n",
       "      <th></th>\n",
       "      <th>date</th>\n",
       "      <th>time</th>\n",
       "      <th>hour</th>\n",
       "      <th>contact</th>\n",
       "      <th>message</th>\n",
       "    </tr>\n",
       "    <tr>\n",
       "      <th>ind1</th>\n",
       "      <th></th>\n",
       "      <th></th>\n",
       "      <th></th>\n",
       "      <th></th>\n",
       "      <th></th>\n",
       "    </tr>\n",
       "  </thead>\n",
       "  <tbody>\n",
       "    <tr>\n",
       "      <th>0</th>\n",
       "      <td>08/04/19</td>\n",
       "      <td>10:51 pm</td>\n",
       "      <td>10</td>\n",
       "      <td>Panchal</td>\n",
       "      <td>created group \"Data Science\"</td>\n",
       "    </tr>\n",
       "    <tr>\n",
       "      <th>1</th>\n",
       "      <td>08/04/19</td>\n",
       "      <td>10:51 pm</td>\n",
       "      <td>10</td>\n",
       "      <td>Panchal</td>\n",
       "      <td>With huge respect to Pranay's wonderful though...</td>\n",
       "    </tr>\n",
       "    <tr>\n",
       "      <th>2</th>\n",
       "      <td>08/04/19</td>\n",
       "      <td>10:52 pm</td>\n",
       "      <td>10</td>\n",
       "      <td>Ankan DUTTA</td>\n",
       "      <td>😅</td>\n",
       "    </tr>\n",
       "    <tr>\n",
       "      <th>3</th>\n",
       "      <td>08/04/19</td>\n",
       "      <td>10:52 pm</td>\n",
       "      <td>10</td>\n",
       "      <td>Panchal</td>\n",
       "      <td>😂 Your presence is most important here.</td>\n",
       "    </tr>\n",
       "    <tr>\n",
       "      <th>4</th>\n",
       "      <td>08/04/19</td>\n",
       "      <td>10:53 pm</td>\n",
       "      <td>10</td>\n",
       "      <td>Ankan DUTTA</td>\n",
       "      <td>Thanks for adding me</td>\n",
       "    </tr>\n",
       "  </tbody>\n",
       "</table>\n",
       "</div>"
      ],
      "text/plain": [
       "          date      time hour      contact  \\\n",
       "ind1                                         \n",
       "0     08/04/19  10:51 pm   10      Panchal   \n",
       "1     08/04/19  10:51 pm   10      Panchal   \n",
       "2     08/04/19  10:52 pm   10  Ankan DUTTA   \n",
       "3     08/04/19  10:52 pm   10      Panchal   \n",
       "4     08/04/19  10:53 pm   10  Ankan DUTTA   \n",
       "\n",
       "                                                message  \n",
       "ind1                                                     \n",
       "0                          created group \"Data Science\"  \n",
       "1     With huge respect to Pranay's wonderful though...  \n",
       "2                                                     😅  \n",
       "3               😂 Your presence is most important here.  \n",
       "4                                  Thanks for adding me  "
      ]
     },
     "execution_count": 27,
     "metadata": {},
     "output_type": "execute_result"
    }
   ],
   "source": [
    "df_final.head()"
   ]
  },
  {
   "cell_type": "markdown",
   "metadata": {},
   "source": [
    "### Only to make sure no rows have text under date column, am checking if there are any text under date column. So finding those rows and removing them."
   ]
  },
  {
   "cell_type": "code",
   "execution_count": 28,
   "metadata": {},
   "outputs": [],
   "source": [
    "alp = ['a','b','c','d','e','f','g','h','i','j','k','l','m','n','o','p','q','r','s','t','u','v','w','x','y','z',\n",
    "       'A','B','C','D','E','F','G','H','I','J','K','L','M','N','O','P','Q','R','S','T','U','V','W','X','Y','Z']\n",
    "\n",
    "al = []\n",
    "for i in range(df_final.shape[0]):\n",
    "    for j in range(len(alp)):\n",
    "        if alp[j] in df_final.date[i][0] or alp[j] in df_final.date[i][-1:] :\n",
    "            al.append(i)"
   ]
  },
  {
   "cell_type": "code",
   "execution_count": 29,
   "metadata": {},
   "outputs": [
    {
     "name": "stdout",
     "output_type": "stream",
     "text": [
      "<class 'pandas.core.frame.DataFrame'>\n",
      "Int64Index: 2008 entries, 0 to 2007\n",
      "Data columns (total 5 columns):\n",
      "date       2008 non-null object\n",
      "time       2008 non-null object\n",
      "hour       2008 non-null object\n",
      "contact    2008 non-null object\n",
      "message    2008 non-null object\n",
      "dtypes: object(5)\n",
      "memory usage: 174.1+ KB\n"
     ]
    }
   ],
   "source": [
    "df_final.info()"
   ]
  },
  {
   "cell_type": "code",
   "execution_count": 30,
   "metadata": {},
   "outputs": [],
   "source": [
    "df_fin = df_final.drop(al, axis = 0)"
   ]
  },
  {
   "cell_type": "markdown",
   "metadata": {},
   "source": [
    "### As we have dropped few rows, we will lose index value. To avoid key error, creating new index which has sequence of numbers.\n",
    "\n",
    "##### Note: We can even use single line code 'df.reset_index(inplace = True)'  instead of hard coding as I did below."
   ]
  },
  {
   "cell_type": "code",
   "execution_count": 3,
   "metadata": {},
   "outputs": [],
   "source": [
    "# Note: We can even use single line code 'df.reset_index(inplace = True)'  instead of hard coding as I did below.\n",
    "\n",
    "# df_dr.reset_index(inplace = True)"
   ]
  },
  {
   "cell_type": "code",
   "execution_count": 31,
   "metadata": {},
   "outputs": [],
   "source": [
    "# Index\n",
    "idx = []\n",
    "for i in range(df_fin.shape[0]):\n",
    "    idx.append(i)\n",
    "\n",
    "# Creating index column\n",
    "df_fin['ind1'] = idx\n",
    " \n",
    "# Updating index\n",
    "df_fin.set_index(['ind1'], inplace = True)"
   ]
  },
  {
   "cell_type": "code",
   "execution_count": 32,
   "metadata": {},
   "outputs": [],
   "source": [
    "# df_final.to_csv('final_chat.csv')"
   ]
  },
  {
   "cell_type": "code",
   "execution_count": 33,
   "metadata": {},
   "outputs": [
    {
     "name": "stdout",
     "output_type": "stream",
     "text": [
      "<class 'pandas.core.frame.DataFrame'>\n",
      "Int64Index: 2003 entries, 0 to 2002\n",
      "Data columns (total 5 columns):\n",
      "date       2003 non-null object\n",
      "time       2003 non-null object\n",
      "hour       2003 non-null object\n",
      "contact    2003 non-null object\n",
      "message    2003 non-null object\n",
      "dtypes: object(5)\n",
      "memory usage: 93.9+ KB\n"
     ]
    }
   ],
   "source": [
    "df_fin.info()"
   ]
  },
  {
   "cell_type": "markdown",
   "metadata": {},
   "source": [
    "### Converting string date into date format (d/m/y)"
   ]
  },
  {
   "cell_type": "code",
   "execution_count": 34,
   "metadata": {},
   "outputs": [],
   "source": [
    "from datetime import datetime, date\n",
    "\n",
    "df_fin.date = df_fin.date.apply(lambda x: datetime.strptime(x, '%d/%m/%y'))"
   ]
  },
  {
   "cell_type": "markdown",
   "metadata": {},
   "source": [
    "### Getting day, month and year\n",
    "\n",
    "##### Day: df.col.strftime('%A')\n",
    "\n",
    "##### Month: df_col.strftime('%B')"
   ]
  },
  {
   "cell_type": "code",
   "execution_count": 35,
   "metadata": {},
   "outputs": [],
   "source": [
    "df_fin['day'] = df_fin.date.apply(lambda x: x.strftime('%A'))\n",
    "df_fin['month'] = df_fin.date.apply(lambda x: x.strftime('%B'))\n",
    "df_fin['year'] = df_fin.date.apply(lambda x: x.strftime('%Y'))"
   ]
  },
  {
   "cell_type": "markdown",
   "metadata": {},
   "source": [
    "### Converting 12 hour format to 24 hour format"
   ]
  },
  {
   "cell_type": "code",
   "execution_count": 36,
   "metadata": {},
   "outputs": [],
   "source": [
    "for i in range(df_fin.shape[0]):\n",
    "    if df_fin.time[i][-2:] == 'am':\n",
    "        if df_fin.time[i][:2] == '12':\n",
    "            df_fin.time[i] = '00' + df_fin.time[i][2:-2]\n",
    "            df_fin.time[i] = df_fin.time[i].strip(' ')\n",
    "        else:\n",
    "            df_fin.time[i] = df_fin.time[i][:-2].strip(' ')\n",
    "    else:\n",
    "        if df_fin.time[i][:2] == '12':\n",
    "            df_fin.time[i] = df_fin.time[i][:-2].strip(' ')\n",
    "        else:\n",
    "            df_fin.time[i] = str(int(df_fin.time[i][:-6]) + 12) + df_fin.time[i][-6:-2]\n",
    "            df_fin.time[i] = df_fin.time[i].strip(' ')"
   ]
  },
  {
   "cell_type": "markdown",
   "metadata": {},
   "source": [
    "### Converting string time in time"
   ]
  },
  {
   "cell_type": "code",
   "execution_count": 37,
   "metadata": {},
   "outputs": [],
   "source": [
    "from datetime import datetime, date\n",
    "\n",
    "df_fin.time = df_fin.time.apply(lambda x: datetime.strptime(x, '%H:%M'))"
   ]
  },
  {
   "cell_type": "code",
   "execution_count": 38,
   "metadata": {},
   "outputs": [],
   "source": [
    "df_fin['hour'] = df_fin.time.apply(lambda x: x.hour)\n",
    "df_fin['minute'] = df_fin.time.apply(lambda x: x.minute)"
   ]
  },
  {
   "cell_type": "markdown",
   "metadata": {},
   "source": [
    "# Final Dataframe"
   ]
  },
  {
   "cell_type": "code",
   "execution_count": 39,
   "metadata": {},
   "outputs": [],
   "source": [
    "df_final_frame = df_fin.drop(['date', 'time'], axis = 1)"
   ]
  },
  {
   "cell_type": "code",
   "execution_count": 40,
   "metadata": {},
   "outputs": [
    {
     "data": {
      "text/html": [
       "<div>\n",
       "<style scoped>\n",
       "    .dataframe tbody tr th:only-of-type {\n",
       "        vertical-align: middle;\n",
       "    }\n",
       "\n",
       "    .dataframe tbody tr th {\n",
       "        vertical-align: top;\n",
       "    }\n",
       "\n",
       "    .dataframe thead th {\n",
       "        text-align: right;\n",
       "    }\n",
       "</style>\n",
       "<table border=\"1\" class=\"dataframe\">\n",
       "  <thead>\n",
       "    <tr style=\"text-align: right;\">\n",
       "      <th></th>\n",
       "      <th>hour</th>\n",
       "      <th>contact</th>\n",
       "      <th>message</th>\n",
       "      <th>day</th>\n",
       "      <th>month</th>\n",
       "      <th>year</th>\n",
       "      <th>minute</th>\n",
       "    </tr>\n",
       "    <tr>\n",
       "      <th>ind1</th>\n",
       "      <th></th>\n",
       "      <th></th>\n",
       "      <th></th>\n",
       "      <th></th>\n",
       "      <th></th>\n",
       "      <th></th>\n",
       "      <th></th>\n",
       "    </tr>\n",
       "  </thead>\n",
       "  <tbody>\n",
       "    <tr>\n",
       "      <th>0</th>\n",
       "      <td>22</td>\n",
       "      <td>Panchal</td>\n",
       "      <td>created group \"Data Science\"</td>\n",
       "      <td>Monday</td>\n",
       "      <td>April</td>\n",
       "      <td>2019</td>\n",
       "      <td>51</td>\n",
       "    </tr>\n",
       "    <tr>\n",
       "      <th>1</th>\n",
       "      <td>22</td>\n",
       "      <td>Panchal</td>\n",
       "      <td>With huge respect to Pranay's wonderful though...</td>\n",
       "      <td>Monday</td>\n",
       "      <td>April</td>\n",
       "      <td>2019</td>\n",
       "      <td>51</td>\n",
       "    </tr>\n",
       "    <tr>\n",
       "      <th>2</th>\n",
       "      <td>22</td>\n",
       "      <td>Ankan DUTTA</td>\n",
       "      <td>😅</td>\n",
       "      <td>Monday</td>\n",
       "      <td>April</td>\n",
       "      <td>2019</td>\n",
       "      <td>52</td>\n",
       "    </tr>\n",
       "    <tr>\n",
       "      <th>3</th>\n",
       "      <td>22</td>\n",
       "      <td>Panchal</td>\n",
       "      <td>😂 Your presence is most important here.</td>\n",
       "      <td>Monday</td>\n",
       "      <td>April</td>\n",
       "      <td>2019</td>\n",
       "      <td>52</td>\n",
       "    </tr>\n",
       "    <tr>\n",
       "      <th>4</th>\n",
       "      <td>22</td>\n",
       "      <td>Ankan DUTTA</td>\n",
       "      <td>Thanks for adding me</td>\n",
       "      <td>Monday</td>\n",
       "      <td>April</td>\n",
       "      <td>2019</td>\n",
       "      <td>53</td>\n",
       "    </tr>\n",
       "  </tbody>\n",
       "</table>\n",
       "</div>"
      ],
      "text/plain": [
       "      hour      contact                                            message  \\\n",
       "ind1                                                                         \n",
       "0       22      Panchal                       created group \"Data Science\"   \n",
       "1       22      Panchal  With huge respect to Pranay's wonderful though...   \n",
       "2       22  Ankan DUTTA                                                  😅   \n",
       "3       22      Panchal            😂 Your presence is most important here.   \n",
       "4       22  Ankan DUTTA                               Thanks for adding me   \n",
       "\n",
       "         day  month  year  minute  \n",
       "ind1                               \n",
       "0     Monday  April  2019      51  \n",
       "1     Monday  April  2019      51  \n",
       "2     Monday  April  2019      52  \n",
       "3     Monday  April  2019      52  \n",
       "4     Monday  April  2019      53  "
      ]
     },
     "execution_count": 40,
     "metadata": {},
     "output_type": "execute_result"
    }
   ],
   "source": [
    "df_final_frame.head()"
   ]
  },
  {
   "cell_type": "code",
   "execution_count": 42,
   "metadata": {},
   "outputs": [],
   "source": [
    "# df_final_frame.to_csv('Machine_Learning_Chat_final_frame.csv')"
   ]
  },
  {
   "cell_type": "markdown",
   "metadata": {},
   "source": [
    "# Exploratory Data Analysis"
   ]
  },
  {
   "cell_type": "code",
   "execution_count": 96,
   "metadata": {},
   "outputs": [
    {
     "data": {
      "text/plain": [
       "<matplotlib.axes._subplots.AxesSubplot at 0xb8dbb70>"
      ]
     },
     "execution_count": 96,
     "metadata": {},
     "output_type": "execute_result"
    },
    {
     "data": {
      "image/png": "[encoded data removed]",
      "text/plain": [
       "<Figure size 720x432 with 1 Axes>"
      ]
     },
     "metadata": {
      "needs_background": "light"
     },
     "output_type": "display_data"
    }
   ],
   "source": [
    "plt.figure(figsize = (10,6))\n",
    "sns.countplot(df_final_frame.hour)"
   ]
  },
  {
   "cell_type": "code",
   "execution_count": 44,
   "metadata": {},
   "outputs": [
    {
     "data": {
      "text/plain": [
       "<matplotlib.axes._subplots.AxesSubplot at 0x532b9b0>"
      ]
     },
     "execution_count": 44,
     "metadata": {},
     "output_type": "execute_result"
    },
    {
     "data": {
      "image/png": "[encoded data removed]",
      "text/plain": [
       "<Figure size 1296x432 with 1 Axes>"
      ]
     },
     "metadata": {
      "needs_background": "light"
     },
     "output_type": "display_data"
    }
   ],
   "source": [
    "plt.figure(figsize = (18,6))\n",
    "sns.countplot(df_final_frame.minute)"
   ]
  },
  {
   "cell_type": "code",
   "execution_count": 98,
   "metadata": {},
   "outputs": [
    {
     "data": {
      "text/plain": [
       "<matplotlib.axes._subplots.AxesSubplot at 0xc9e4860>"
      ]
     },
     "execution_count": 98,
     "metadata": {},
     "output_type": "execute_result"
    },
    {
     "data": {
      "image/png": "[encoded data removed]",
      "text/plain": [
       "<Figure size 720x432 with 1 Axes>"
      ]
     },
     "metadata": {
      "needs_background": "light"
     },
     "output_type": "display_data"
    }
   ],
   "source": [
    "plt.figure(figsize = (10,6))\n",
    "sns.countplot(df_final_frame.day)"
   ]
  },
  {
   "cell_type": "code",
   "execution_count": 93,
   "metadata": {},
   "outputs": [
    {
     "data": {
      "text/plain": [
       "<matplotlib.axes._subplots.AxesSubplot at 0xce1f0b8>"
      ]
     },
     "execution_count": 93,
     "metadata": {},
     "output_type": "execute_result"
    },
    {
     "data": {
      "image/png": "[encoded data removed]",
      "text/plain": [
       "<Figure size 720x432 with 1 Axes>"
      ]
     },
     "metadata": {
      "needs_background": "light"
     },
     "output_type": "display_data"
    }
   ],
   "source": [
    "plt.figure(figsize = (10,6))\n",
    "sns.countplot(df_final_frame.month, hue = df_final_frame.day)"
   ]
  },
  {
   "cell_type": "code",
   "execution_count": 91,
   "metadata": {},
   "outputs": [
    {
     "data": {
      "text/plain": [
       "<matplotlib.axes._subplots.AxesSubplot at 0xce1f390>"
      ]
     },
     "execution_count": 91,
     "metadata": {},
     "output_type": "execute_result"
    },
    {
     "data": {
      "image/png": "[encoded data removed]",
      "text/plain": [
       "<Figure size 720x432 with 1 Axes>"
      ]
     },
     "metadata": {
      "needs_background": "light"
     },
     "output_type": "display_data"
    }
   ],
   "source": [
    "plt.figure(figsize = (10,6))\n",
    "sns.countplot(df_final_frame.year)"
   ]
  },
  {
   "cell_type": "code",
   "execution_count": 89,
   "metadata": {},
   "outputs": [
    {
     "data": {
      "text/plain": [
       "[Text(0,0,'Panchal'),\n",
       " Text(0,0,'Ankan DUTTA'),\n",
       " Text(0,0,'Chinki'),\n",
       " Text(0,0,''),\n",
       " Text(0,0,'Harry'),\n",
       " Text(0,0,'Ganguly'),\n",
       " Text(0,0,'Harry changed their phone number to a new number. Tap to me'),\n",
       " Text(0,0,'Mera Jio'),\n",
       " Text(0,0,'Mera Jio changed their phone number to a new number.'),\n",
       " Text(0,0,'Sk')]"
      ]
     },
     "execution_count": 89,
     "metadata": {},
     "output_type": "execute_result"
    },
    {
     "data": {
      "image/png": "[encoded data removed]",
      "text/plain": [
       "<Figure size 1296x432 with 1 Axes>"
      ]
     },
     "metadata": {
      "needs_background": "light"
     },
     "output_type": "display_data"
    }
   ],
   "source": [
    "plt.figure(figsize = (18,6))\n",
    "p = sns.countplot(df_final_frame.contact, hue = df_final_frame.month)\n",
    "p.set_xticklabels(p.get_xticklabels(), rotation = 70)"
   ]
  },
  {
   "cell_type": "code",
   "execution_count": 49,
   "metadata": {},
   "outputs": [
    {
     "data": {
      "text/plain": [
       "Harry                                                          612\n",
       "Panchal                                                        454\n",
       "Chinki                                                         409\n",
       "Ganguly                                                        390\n",
       "Ankan DUTTA                                                    110\n",
       "Mera Jio                                                        15\n",
       "Sk                                                               7\n",
       "                                                                 4\n",
       "Mera Jio changed their phone number to a new number.             1\n",
       "Harry changed their phone number to a new number. Tap to me      1\n",
       "Name: contact, dtype: int64"
      ]
     },
     "execution_count": 49,
     "metadata": {},
     "output_type": "execute_result"
    }
   ],
   "source": [
    "df_final_frame.contact.value_counts().head(10)"
   ]
  },
  {
   "cell_type": "code",
   "execution_count": 50,
   "metadata": {},
   "outputs": [
    {
     "data": {
      "text/plain": [
       "<Media omitted>    93\n",
       "🤣                  21\n",
       "☺                  13\n",
       "😁                   9\n",
       "Yes                 9\n",
       "😅                   8\n",
       "Accha               7\n",
       "Haan                7\n",
       "🤔                   6\n",
       "Oh                  6\n",
       "Name: message, dtype: int64"
      ]
     },
     "execution_count": 50,
     "metadata": {},
     "output_type": "execute_result"
    }
   ],
   "source": [
    "df_final_frame.message.value_counts().head(10)"
   ]
  },
  {
   "cell_type": "markdown",
   "metadata": {},
   "source": [
    "### Message length"
   ]
  },
  {
   "cell_type": "code",
   "execution_count": 51,
   "metadata": {},
   "outputs": [],
   "source": [
    "mes = []\n",
    "\n",
    "for i in range(df_final_frame.shape[0]):\n",
    "    mes_len = df_final_frame.message[i].split()\n",
    "    mes.append(len(mes_len))"
   ]
  },
  {
   "cell_type": "code",
   "execution_count": 52,
   "metadata": {},
   "outputs": [],
   "source": [
    "df_final_frame_sam = df_final_frame"
   ]
  },
  {
   "cell_type": "code",
   "execution_count": 53,
   "metadata": {},
   "outputs": [],
   "source": [
    "df_final_frame_sam['msg_len'] = mes"
   ]
  },
  {
   "cell_type": "code",
   "execution_count": 54,
   "metadata": {},
   "outputs": [],
   "source": [
    "max_mes = df_final_frame_sam.msg_len.max()"
   ]
  },
  {
   "cell_type": "code",
   "execution_count": 55,
   "metadata": {},
   "outputs": [
    {
     "data": {
      "text/html": [
       "<div>\n",
       "<style scoped>\n",
       "    .dataframe tbody tr th:only-of-type {\n",
       "        vertical-align: middle;\n",
       "    }\n",
       "\n",
       "    .dataframe tbody tr th {\n",
       "        vertical-align: top;\n",
       "    }\n",
       "\n",
       "    .dataframe thead th {\n",
       "        text-align: right;\n",
       "    }\n",
       "</style>\n",
       "<table border=\"1\" class=\"dataframe\">\n",
       "  <thead>\n",
       "    <tr style=\"text-align: right;\">\n",
       "      <th></th>\n",
       "      <th>hour</th>\n",
       "      <th>contact</th>\n",
       "      <th>message</th>\n",
       "      <th>day</th>\n",
       "      <th>month</th>\n",
       "      <th>year</th>\n",
       "      <th>minute</th>\n",
       "      <th>msg_len</th>\n",
       "    </tr>\n",
       "    <tr>\n",
       "      <th>ind1</th>\n",
       "      <th></th>\n",
       "      <th></th>\n",
       "      <th></th>\n",
       "      <th></th>\n",
       "      <th></th>\n",
       "      <th></th>\n",
       "      <th></th>\n",
       "      <th></th>\n",
       "    </tr>\n",
       "  </thead>\n",
       "  <tbody>\n",
       "    <tr>\n",
       "      <th>1435</th>\n",
       "      <td>7</td>\n",
       "      <td>Harry</td>\n",
       "      <td>See..  Bhai aisa video dekhne mi time lagta ha...</td>\n",
       "      <td>Tuesday</td>\n",
       "      <td>June</td>\n",
       "      <td>2019</td>\n",
       "      <td>39</td>\n",
       "      <td>95</td>\n",
       "    </tr>\n",
       "  </tbody>\n",
       "</table>\n",
       "</div>"
      ],
      "text/plain": [
       "      hour contact                                            message  \\\n",
       "ind1                                                                    \n",
       "1435     7   Harry  See..  Bhai aisa video dekhne mi time lagta ha...   \n",
       "\n",
       "          day month  year  minute  msg_len  \n",
       "ind1                                        \n",
       "1435  Tuesday  June  2019      39       95  "
      ]
     },
     "execution_count": 55,
     "metadata": {},
     "output_type": "execute_result"
    }
   ],
   "source": [
    "df_final_frame_sam[df_final_frame_sam.msg_len == max_mes]"
   ]
  },
  {
   "cell_type": "code",
   "execution_count": 56,
   "metadata": {},
   "outputs": [
    {
     "data": {
      "text/plain": [
       "'See..  Bhai aisa video dekhne mi time lagta hai.. Aisa kiya kro.. Har concept padhke  ik  video recorder se record kra kro video by summerizing the concept.. .. nan nan If just suppose video 35 min.. Ki hui..😁 nan See my approach.. For every concept i maked swlf revesion videos. Not more than 5 minutes video... nan Video lenght depend on the concept.. nan See aagr aisa kroogee... Dwkho concept padhke apne dimag mi clearity aati hai concept ki..  Sath mi us clearity ko record krlo for future... Notes bnane bethoge.. To ghntee lag jainnge'"
      ]
     },
     "execution_count": 56,
     "metadata": {},
     "output_type": "execute_result"
    }
   ],
   "source": [
    "df_final_frame_sam.message[1435]"
   ]
  },
  {
   "cell_type": "code",
   "execution_count": null,
   "metadata": {},
   "outputs": [],
   "source": []
  },
  {
   "cell_type": "code",
   "execution_count": 189,
   "metadata": {},
   "outputs": [
    {
     "data": {
      "text/plain": [
       "'from wordcloud import WordCloud\\nwordcloud = WordCloud().generate(tokens[5])\\n\\n# Display the generated image:\\nplt.imshow(wordcloud, interpolation=\\'bilinear\\')\\nplt.axis(\"off\")\\nplt.show()\\n'"
      ]
     },
     "execution_count": 189,
     "metadata": {},
     "output_type": "execute_result"
    }
   ],
   "source": [
    "\"\"\"from wordcloud import WordCloud\n",
    "wordcloud = WordCloud().generate(tokens[5])\n",
    "\n",
    "# Display the generated image:\n",
    "plt.imshow(wordcloud, interpolation='bilinear')\n",
    "plt.axis(\"off\")\n",
    "plt.show()\n",
    "\"\"\""
   ]
  },
  {
   "cell_type": "code",
   "execution_count": null,
   "metadata": {},
   "outputs": [],
   "source": []
  },
  {
   "cell_type": "code",
   "execution_count": 142,
   "metadata": {},
   "outputs": [
    {
     "name": "stdout",
     "output_type": "stream",
     "text": [
      "Collecting wordcloud\n",
      "  Downloading https://files.pythonhosted.org/packages/23/4e/1254d26ce5d36facdcbb5820e7e434328aed68e99938c75c9d4e2fee5efb/wordcloud-1.5.0-cp37-cp37m-win_amd64.whl (153kB)\n",
      "Requirement already satisfied: pillow in c:\\users\\sandeep\\anaconda3\\lib\\site-packages (from wordcloud) (5.2.0)\n",
      "Requirement already satisfied: numpy>=1.6.1 in c:\\users\\sandeep\\anaconda3\\lib\\site-packages (from wordcloud) (1.15.1)\n",
      "Installing collected packages: wordcloud\n",
      "Successfully installed wordcloud-1.5.0\n"
     ]
    },
    {
     "name": "stderr",
     "output_type": "stream",
     "text": [
      "twisted 18.7.0 requires PyHamcrest>=1.9.0, which is not installed.\n",
      "phik 0.9.8 has requirement numpy>=1.15.4, but you'll have numpy 1.15.1 which is incompatible.\n",
      "You are using pip version 10.0.1, however version 19.2.1 is available.\n",
      "You should consider upgrading via the 'python -m pip install --upgrade pip' command.\n"
     ]
    }
   ],
   "source": [
    "!pip install wordcloud"
   ]
  },
  {
   "cell_type": "code",
   "execution_count": 57,
   "metadata": {},
   "outputs": [],
   "source": [
    "from wordcloud import WordCloud"
   ]
  },
  {
   "cell_type": "code",
   "execution_count": 78,
   "metadata": {},
   "outputs": [],
   "source": [
    "w = ['Artificial-Intelligence', 'Machine-Learning', 'Data-Science', 'Natural-Language-Processing', 'Deep-Learning']\n",
    "# w = ['Artificial Intelligence     ']"
   ]
  },
  {
   "cell_type": "code",
   "execution_count": 79,
   "metadata": {},
   "outputs": [
    {
     "data": {
      "text/plain": [
       "(-0.5, 399.5, 199.5, -0.5)"
      ]
     },
     "execution_count": 79,
     "metadata": {},
     "output_type": "execute_result"
    },
    {
     "data": {
      "image/png": "[encoded data removed]",
      "text/plain": [
       "<Figure size 432x288 with 1 Axes>"
      ]
     },
     "metadata": {
      "needs_background": "light"
     },
     "output_type": "display_data"
    }
   ],
   "source": [
    "wc = WordCloud().generate(str(w))\n",
    "plt.imshow(wc, interpolation = 'bilinear')\n",
    "\n",
    "plt.axis('off')"
   ]
  },
  {
   "cell_type": "code",
   "execution_count": null,
   "metadata": {},
   "outputs": [],
   "source": []
  },
  {
   "cell_type": "markdown",
   "metadata": {},
   "source": [
    "<center><h1>End<h1>"
   ]
  },
  {
   "cell_type": "code",
   "execution_count": null,
   "metadata": {},
   "outputs": [],
   "source": []
  }
 ],
 "metadata": {
  "kernelspec": {
   "display_name": "Python 3",
   "language": "python",
   "name": "python3"
  },
  "language_info": {
   "codemirror_mode": {
    "name": "ipython",
    "version": 3
   },
   "file_extension": ".py",
   "mimetype": "text/x-python",
   "name": "python",
   "nbconvert_exporter": "python",
   "pygments_lexer": "ipython3",
   "version": "3.7.1"
  }
 },
 "nbformat": 4,
 "nbformat_minor": 2
}
